{
 "cells": [
  {
   "cell_type": "markdown",
   "metadata": {},
   "source": [
    "# SUMMER ANALYTICS 2021\n",
    "\n",
    "## WEEK-4 ASSIGNMENT"
   ]
  },
  {
   "cell_type": "code",
   "execution_count": 11,
   "metadata": {},
   "outputs": [],
   "source": [
    "import pandas as pd\n",
    "import numpy as np\n",
    "import seaborn as sns\n",
    "import matplotlib.pyplot as plt\n",
    "%matplotlib inline\n",
    "import sklearn\n",
    "import IPython.display as ipd\n",
    "from IPython.display import Image\n",
    "import warnings\n",
    "warnings.filterwarnings('ignore')"
   ]
  },
  {
   "cell_type": "markdown",
   "metadata": {},
   "source": [
    "### Let's explore the dataset shall we?\n",
    "Music conoeisseurs have been trying for a long time to understand sound and what differenciates one song from another. How to visualize sound. What makes a tone different from another.\n",
    "\n",
    "In this notebook we will go through an in depth analysis of sound and how we can **classify and ultimately understand** it.\n",
    "\n",
    "I suggest you to use the internet before asking a doubt. Most of your doubts will disappear once you read the documentation or search StackOverflow! \n",
    "\n",
    "**Note**: Pay close attention to the markdown cells and the comments."
   ]
  },
  {
   "cell_type": "code",
   "execution_count": 12,
   "metadata": {},
   "outputs": [
    {
     "data": {
      "text/html": [
       "<div>\n",
       "<style scoped>\n",
       "    .dataframe tbody tr th:only-of-type {\n",
       "        vertical-align: middle;\n",
       "    }\n",
       "\n",
       "    .dataframe tbody tr th {\n",
       "        vertical-align: top;\n",
       "    }\n",
       "\n",
       "    .dataframe thead th {\n",
       "        text-align: right;\n",
       "    }\n",
       "</style>\n",
       "<table border=\"1\" class=\"dataframe\">\n",
       "  <thead>\n",
       "    <tr style=\"text-align: right;\">\n",
       "      <th></th>\n",
       "      <th>length</th>\n",
       "      <th>chroma_stft_mean</th>\n",
       "      <th>chroma_stft_var</th>\n",
       "      <th>rms_mean</th>\n",
       "      <th>rms_var</th>\n",
       "      <th>spectral_centroid_mean</th>\n",
       "      <th>spectral_centroid_var</th>\n",
       "      <th>spectral_bandwidth_mean</th>\n",
       "      <th>spectral_bandwidth_var</th>\n",
       "      <th>rolloff_mean</th>\n",
       "      <th>...</th>\n",
       "      <th>mfcc16_var</th>\n",
       "      <th>mfcc17_mean</th>\n",
       "      <th>mfcc17_var</th>\n",
       "      <th>mfcc18_mean</th>\n",
       "      <th>mfcc18_var</th>\n",
       "      <th>mfcc19_mean</th>\n",
       "      <th>mfcc19_var</th>\n",
       "      <th>mfcc20_mean</th>\n",
       "      <th>mfcc20_var</th>\n",
       "      <th>label</th>\n",
       "    </tr>\n",
       "  </thead>\n",
       "  <tbody>\n",
       "    <tr>\n",
       "      <th>0</th>\n",
       "      <td>66149</td>\n",
       "      <td>0.335406</td>\n",
       "      <td>0.091048</td>\n",
       "      <td>0.130405</td>\n",
       "      <td>0.003521</td>\n",
       "      <td>1773.065032</td>\n",
       "      <td>167541.63090</td>\n",
       "      <td>1972.744388</td>\n",
       "      <td>117335.77160</td>\n",
       "      <td>3714.560359</td>\n",
       "      <td>...</td>\n",
       "      <td>39.687145</td>\n",
       "      <td>-3.241280</td>\n",
       "      <td>36.488243</td>\n",
       "      <td>0.722209</td>\n",
       "      <td>38.099152</td>\n",
       "      <td>-5.050335</td>\n",
       "      <td>33.618073</td>\n",
       "      <td>-0.243027</td>\n",
       "      <td>43.771767</td>\n",
       "      <td>blues</td>\n",
       "    </tr>\n",
       "    <tr>\n",
       "      <th>1</th>\n",
       "      <td>66149</td>\n",
       "      <td>0.343065</td>\n",
       "      <td>0.086147</td>\n",
       "      <td>0.112699</td>\n",
       "      <td>0.001450</td>\n",
       "      <td>1816.693777</td>\n",
       "      <td>90525.69087</td>\n",
       "      <td>2010.051501</td>\n",
       "      <td>65671.87567</td>\n",
       "      <td>3869.682242</td>\n",
       "      <td>...</td>\n",
       "      <td>64.748276</td>\n",
       "      <td>-6.055294</td>\n",
       "      <td>40.677654</td>\n",
       "      <td>0.159015</td>\n",
       "      <td>51.264091</td>\n",
       "      <td>-2.837699</td>\n",
       "      <td>97.030830</td>\n",
       "      <td>5.784063</td>\n",
       "      <td>59.943081</td>\n",
       "      <td>blues</td>\n",
       "    </tr>\n",
       "    <tr>\n",
       "      <th>2</th>\n",
       "      <td>66149</td>\n",
       "      <td>0.346815</td>\n",
       "      <td>0.092243</td>\n",
       "      <td>0.132003</td>\n",
       "      <td>0.004620</td>\n",
       "      <td>1788.539719</td>\n",
       "      <td>111407.43760</td>\n",
       "      <td>2084.565132</td>\n",
       "      <td>75124.92172</td>\n",
       "      <td>3997.639160</td>\n",
       "      <td>...</td>\n",
       "      <td>67.336563</td>\n",
       "      <td>-1.768610</td>\n",
       "      <td>28.348579</td>\n",
       "      <td>2.378768</td>\n",
       "      <td>45.717648</td>\n",
       "      <td>-1.938424</td>\n",
       "      <td>53.050835</td>\n",
       "      <td>2.517375</td>\n",
       "      <td>33.105122</td>\n",
       "      <td>blues</td>\n",
       "    </tr>\n",
       "    <tr>\n",
       "      <th>3</th>\n",
       "      <td>66149</td>\n",
       "      <td>0.363639</td>\n",
       "      <td>0.086856</td>\n",
       "      <td>0.132565</td>\n",
       "      <td>0.002448</td>\n",
       "      <td>1655.289045</td>\n",
       "      <td>111952.28450</td>\n",
       "      <td>1960.039988</td>\n",
       "      <td>82913.63927</td>\n",
       "      <td>3568.300218</td>\n",
       "      <td>...</td>\n",
       "      <td>47.739452</td>\n",
       "      <td>-3.841155</td>\n",
       "      <td>28.337118</td>\n",
       "      <td>1.218588</td>\n",
       "      <td>34.770935</td>\n",
       "      <td>-3.580352</td>\n",
       "      <td>50.836224</td>\n",
       "      <td>3.630866</td>\n",
       "      <td>32.023678</td>\n",
       "      <td>blues</td>\n",
       "    </tr>\n",
       "    <tr>\n",
       "      <th>4</th>\n",
       "      <td>66149</td>\n",
       "      <td>0.335579</td>\n",
       "      <td>0.088129</td>\n",
       "      <td>0.143289</td>\n",
       "      <td>0.001701</td>\n",
       "      <td>1630.656199</td>\n",
       "      <td>79667.26765</td>\n",
       "      <td>1948.503884</td>\n",
       "      <td>60204.02027</td>\n",
       "      <td>3469.992864</td>\n",
       "      <td>...</td>\n",
       "      <td>30.336359</td>\n",
       "      <td>0.664582</td>\n",
       "      <td>45.880913</td>\n",
       "      <td>1.689446</td>\n",
       "      <td>51.363583</td>\n",
       "      <td>-3.392489</td>\n",
       "      <td>26.738789</td>\n",
       "      <td>0.536961</td>\n",
       "      <td>29.146694</td>\n",
       "      <td>blues</td>\n",
       "    </tr>\n",
       "  </tbody>\n",
       "</table>\n",
       "<p>5 rows × 59 columns</p>\n",
       "</div>"
      ],
      "text/plain": [
       "   length  chroma_stft_mean  chroma_stft_var  rms_mean   rms_var  \\\n",
       "0   66149          0.335406         0.091048  0.130405  0.003521   \n",
       "1   66149          0.343065         0.086147  0.112699  0.001450   \n",
       "2   66149          0.346815         0.092243  0.132003  0.004620   \n",
       "3   66149          0.363639         0.086856  0.132565  0.002448   \n",
       "4   66149          0.335579         0.088129  0.143289  0.001701   \n",
       "\n",
       "   spectral_centroid_mean  spectral_centroid_var  spectral_bandwidth_mean  \\\n",
       "0             1773.065032           167541.63090              1972.744388   \n",
       "1             1816.693777            90525.69087              2010.051501   \n",
       "2             1788.539719           111407.43760              2084.565132   \n",
       "3             1655.289045           111952.28450              1960.039988   \n",
       "4             1630.656199            79667.26765              1948.503884   \n",
       "\n",
       "   spectral_bandwidth_var  rolloff_mean  ...  mfcc16_var  mfcc17_mean  \\\n",
       "0            117335.77160   3714.560359  ...   39.687145    -3.241280   \n",
       "1             65671.87567   3869.682242  ...   64.748276    -6.055294   \n",
       "2             75124.92172   3997.639160  ...   67.336563    -1.768610   \n",
       "3             82913.63927   3568.300218  ...   47.739452    -3.841155   \n",
       "4             60204.02027   3469.992864  ...   30.336359     0.664582   \n",
       "\n",
       "   mfcc17_var  mfcc18_mean  mfcc18_var  mfcc19_mean  mfcc19_var  mfcc20_mean  \\\n",
       "0   36.488243     0.722209   38.099152    -5.050335   33.618073    -0.243027   \n",
       "1   40.677654     0.159015   51.264091    -2.837699   97.030830     5.784063   \n",
       "2   28.348579     2.378768   45.717648    -1.938424   53.050835     2.517375   \n",
       "3   28.337118     1.218588   34.770935    -3.580352   50.836224     3.630866   \n",
       "4   45.880913     1.689446   51.363583    -3.392489   26.738789     0.536961   \n",
       "\n",
       "   mfcc20_var  label  \n",
       "0   43.771767  blues  \n",
       "1   59.943081  blues  \n",
       "2   33.105122  blues  \n",
       "3   32.023678  blues  \n",
       "4   29.146694  blues  \n",
       "\n",
       "[5 rows x 59 columns]"
      ]
     },
     "execution_count": 12,
     "metadata": {},
     "output_type": "execute_result"
    }
   ],
   "source": [
    "# Read the csv file as data\n",
    "data=pd.read_csv('SA2021_W4_Music.csv')\n",
    "# you may print first few rows\n",
    "data.head()"
   ]
  },
  {
   "cell_type": "code",
   "execution_count": 13,
   "metadata": {},
   "outputs": [
    {
     "data": {
      "text/html": [
       "<div>\n",
       "<style scoped>\n",
       "    .dataframe tbody tr th:only-of-type {\n",
       "        vertical-align: middle;\n",
       "    }\n",
       "\n",
       "    .dataframe tbody tr th {\n",
       "        vertical-align: top;\n",
       "    }\n",
       "\n",
       "    .dataframe thead th {\n",
       "        text-align: right;\n",
       "    }\n",
       "</style>\n",
       "<table border=\"1\" class=\"dataframe\">\n",
       "  <thead>\n",
       "    <tr style=\"text-align: right;\">\n",
       "      <th></th>\n",
       "      <th>length</th>\n",
       "      <th>chroma_stft_mean</th>\n",
       "      <th>chroma_stft_var</th>\n",
       "      <th>rms_mean</th>\n",
       "      <th>rms_var</th>\n",
       "      <th>spectral_centroid_mean</th>\n",
       "      <th>spectral_centroid_var</th>\n",
       "      <th>spectral_bandwidth_mean</th>\n",
       "      <th>spectral_bandwidth_var</th>\n",
       "      <th>rolloff_mean</th>\n",
       "      <th>...</th>\n",
       "      <th>mfcc16_mean</th>\n",
       "      <th>mfcc16_var</th>\n",
       "      <th>mfcc17_mean</th>\n",
       "      <th>mfcc17_var</th>\n",
       "      <th>mfcc18_mean</th>\n",
       "      <th>mfcc18_var</th>\n",
       "      <th>mfcc19_mean</th>\n",
       "      <th>mfcc19_var</th>\n",
       "      <th>mfcc20_mean</th>\n",
       "      <th>mfcc20_var</th>\n",
       "    </tr>\n",
       "  </thead>\n",
       "  <tbody>\n",
       "    <tr>\n",
       "      <th>count</th>\n",
       "      <td>9990.0</td>\n",
       "      <td>9990.000000</td>\n",
       "      <td>9990.000000</td>\n",
       "      <td>9990.000000</td>\n",
       "      <td>9.990000e+03</td>\n",
       "      <td>9990.000000</td>\n",
       "      <td>9.990000e+03</td>\n",
       "      <td>9990.000000</td>\n",
       "      <td>9.990000e+03</td>\n",
       "      <td>9990.000000</td>\n",
       "      <td>...</td>\n",
       "      <td>9990.000000</td>\n",
       "      <td>9990.000000</td>\n",
       "      <td>9990.000000</td>\n",
       "      <td>9990.000000</td>\n",
       "      <td>9990.000000</td>\n",
       "      <td>9990.000000</td>\n",
       "      <td>9990.000000</td>\n",
       "      <td>9990.000000</td>\n",
       "      <td>9990.000000</td>\n",
       "      <td>9990.000000</td>\n",
       "    </tr>\n",
       "    <tr>\n",
       "      <th>mean</th>\n",
       "      <td>66149.0</td>\n",
       "      <td>0.379534</td>\n",
       "      <td>0.084876</td>\n",
       "      <td>0.130859</td>\n",
       "      <td>2.676388e-03</td>\n",
       "      <td>2199.219431</td>\n",
       "      <td>4.166727e+05</td>\n",
       "      <td>2241.385959</td>\n",
       "      <td>1.182711e+05</td>\n",
       "      <td>4566.076592</td>\n",
       "      <td>...</td>\n",
       "      <td>1.448240</td>\n",
       "      <td>49.988755</td>\n",
       "      <td>-4.198706</td>\n",
       "      <td>51.962753</td>\n",
       "      <td>0.739943</td>\n",
       "      <td>52.488851</td>\n",
       "      <td>-2.497306</td>\n",
       "      <td>54.973829</td>\n",
       "      <td>-0.917584</td>\n",
       "      <td>57.322614</td>\n",
       "    </tr>\n",
       "    <tr>\n",
       "      <th>std</th>\n",
       "      <td>0.0</td>\n",
       "      <td>0.090466</td>\n",
       "      <td>0.009637</td>\n",
       "      <td>0.068545</td>\n",
       "      <td>3.585628e-03</td>\n",
       "      <td>751.860611</td>\n",
       "      <td>4.349644e+05</td>\n",
       "      <td>543.854449</td>\n",
       "      <td>1.013505e+05</td>\n",
       "      <td>1642.065335</td>\n",
       "      <td>...</td>\n",
       "      <td>5.735149</td>\n",
       "      <td>34.442816</td>\n",
       "      <td>5.677379</td>\n",
       "      <td>36.400669</td>\n",
       "      <td>5.181313</td>\n",
       "      <td>38.177120</td>\n",
       "      <td>5.111799</td>\n",
       "      <td>41.585677</td>\n",
       "      <td>5.253243</td>\n",
       "      <td>46.444212</td>\n",
       "    </tr>\n",
       "    <tr>\n",
       "      <th>min</th>\n",
       "      <td>66149.0</td>\n",
       "      <td>0.107108</td>\n",
       "      <td>0.015345</td>\n",
       "      <td>0.000953</td>\n",
       "      <td>4.380000e-08</td>\n",
       "      <td>472.741636</td>\n",
       "      <td>8.118813e+02</td>\n",
       "      <td>499.162910</td>\n",
       "      <td>1.183520e+03</td>\n",
       "      <td>658.336276</td>\n",
       "      <td>...</td>\n",
       "      <td>-26.850016</td>\n",
       "      <td>1.325786</td>\n",
       "      <td>-27.809795</td>\n",
       "      <td>1.624544</td>\n",
       "      <td>-20.733809</td>\n",
       "      <td>3.437439</td>\n",
       "      <td>-27.448456</td>\n",
       "      <td>3.065302</td>\n",
       "      <td>-35.640659</td>\n",
       "      <td>0.282131</td>\n",
       "    </tr>\n",
       "    <tr>\n",
       "      <th>25%</th>\n",
       "      <td>66149.0</td>\n",
       "      <td>0.315698</td>\n",
       "      <td>0.079833</td>\n",
       "      <td>0.083782</td>\n",
       "      <td>6.145900e-04</td>\n",
       "      <td>1630.680158</td>\n",
       "      <td>1.231961e+05</td>\n",
       "      <td>1887.455789</td>\n",
       "      <td>4.876553e+04</td>\n",
       "      <td>3378.311110</td>\n",
       "      <td>...</td>\n",
       "      <td>-2.227478</td>\n",
       "      <td>29.584894</td>\n",
       "      <td>-7.951722</td>\n",
       "      <td>29.863448</td>\n",
       "      <td>-2.516638</td>\n",
       "      <td>29.636197</td>\n",
       "      <td>-5.734123</td>\n",
       "      <td>30.496412</td>\n",
       "      <td>-4.004475</td>\n",
       "      <td>30.011365</td>\n",
       "    </tr>\n",
       "    <tr>\n",
       "      <th>50%</th>\n",
       "      <td>66149.0</td>\n",
       "      <td>0.384741</td>\n",
       "      <td>0.085108</td>\n",
       "      <td>0.121253</td>\n",
       "      <td>1.491318e-03</td>\n",
       "      <td>2208.628236</td>\n",
       "      <td>2.650692e+05</td>\n",
       "      <td>2230.575595</td>\n",
       "      <td>8.996072e+04</td>\n",
       "      <td>4631.377892</td>\n",
       "      <td>...</td>\n",
       "      <td>1.461623</td>\n",
       "      <td>41.702393</td>\n",
       "      <td>-4.443021</td>\n",
       "      <td>42.393583</td>\n",
       "      <td>0.733772</td>\n",
       "      <td>41.831377</td>\n",
       "      <td>-2.702366</td>\n",
       "      <td>43.435253</td>\n",
       "      <td>-1.030939</td>\n",
       "      <td>44.332155</td>\n",
       "    </tr>\n",
       "    <tr>\n",
       "      <th>75%</th>\n",
       "      <td>66149.0</td>\n",
       "      <td>0.442443</td>\n",
       "      <td>0.091092</td>\n",
       "      <td>0.176328</td>\n",
       "      <td>3.130863e-03</td>\n",
       "      <td>2712.581883</td>\n",
       "      <td>5.624152e+05</td>\n",
       "      <td>2588.340505</td>\n",
       "      <td>1.585674e+05</td>\n",
       "      <td>5591.634521</td>\n",
       "      <td>...</td>\n",
       "      <td>5.149752</td>\n",
       "      <td>59.274619</td>\n",
       "      <td>-0.726945</td>\n",
       "      <td>61.676964</td>\n",
       "      <td>3.888734</td>\n",
       "      <td>62.033906</td>\n",
       "      <td>0.514246</td>\n",
       "      <td>65.328602</td>\n",
       "      <td>2.216603</td>\n",
       "      <td>68.210421</td>\n",
       "    </tr>\n",
       "    <tr>\n",
       "      <th>max</th>\n",
       "      <td>66149.0</td>\n",
       "      <td>0.749481</td>\n",
       "      <td>0.120964</td>\n",
       "      <td>0.442567</td>\n",
       "      <td>3.261522e-02</td>\n",
       "      <td>5432.534406</td>\n",
       "      <td>4.794119e+06</td>\n",
       "      <td>3708.147554</td>\n",
       "      <td>1.235143e+06</td>\n",
       "      <td>9487.446477</td>\n",
       "      <td>...</td>\n",
       "      <td>39.144405</td>\n",
       "      <td>683.932556</td>\n",
       "      <td>34.048843</td>\n",
       "      <td>529.363342</td>\n",
       "      <td>36.970322</td>\n",
       "      <td>629.729797</td>\n",
       "      <td>31.365425</td>\n",
       "      <td>1143.230591</td>\n",
       "      <td>34.212101</td>\n",
       "      <td>910.473206</td>\n",
       "    </tr>\n",
       "  </tbody>\n",
       "</table>\n",
       "<p>8 rows × 58 columns</p>\n",
       "</div>"
      ],
      "text/plain": [
       "        length  chroma_stft_mean  chroma_stft_var     rms_mean       rms_var  \\\n",
       "count   9990.0       9990.000000      9990.000000  9990.000000  9.990000e+03   \n",
       "mean   66149.0          0.379534         0.084876     0.130859  2.676388e-03   \n",
       "std        0.0          0.090466         0.009637     0.068545  3.585628e-03   \n",
       "min    66149.0          0.107108         0.015345     0.000953  4.380000e-08   \n",
       "25%    66149.0          0.315698         0.079833     0.083782  6.145900e-04   \n",
       "50%    66149.0          0.384741         0.085108     0.121253  1.491318e-03   \n",
       "75%    66149.0          0.442443         0.091092     0.176328  3.130863e-03   \n",
       "max    66149.0          0.749481         0.120964     0.442567  3.261522e-02   \n",
       "\n",
       "       spectral_centroid_mean  spectral_centroid_var  spectral_bandwidth_mean  \\\n",
       "count             9990.000000           9.990000e+03              9990.000000   \n",
       "mean              2199.219431           4.166727e+05              2241.385959   \n",
       "std                751.860611           4.349644e+05               543.854449   \n",
       "min                472.741636           8.118813e+02               499.162910   \n",
       "25%               1630.680158           1.231961e+05              1887.455789   \n",
       "50%               2208.628236           2.650692e+05              2230.575595   \n",
       "75%               2712.581883           5.624152e+05              2588.340505   \n",
       "max               5432.534406           4.794119e+06              3708.147554   \n",
       "\n",
       "       spectral_bandwidth_var  rolloff_mean  ...  mfcc16_mean   mfcc16_var  \\\n",
       "count            9.990000e+03   9990.000000  ...  9990.000000  9990.000000   \n",
       "mean             1.182711e+05   4566.076592  ...     1.448240    49.988755   \n",
       "std              1.013505e+05   1642.065335  ...     5.735149    34.442816   \n",
       "min              1.183520e+03    658.336276  ...   -26.850016     1.325786   \n",
       "25%              4.876553e+04   3378.311110  ...    -2.227478    29.584894   \n",
       "50%              8.996072e+04   4631.377892  ...     1.461623    41.702393   \n",
       "75%              1.585674e+05   5591.634521  ...     5.149752    59.274619   \n",
       "max              1.235143e+06   9487.446477  ...    39.144405   683.932556   \n",
       "\n",
       "       mfcc17_mean   mfcc17_var  mfcc18_mean   mfcc18_var  mfcc19_mean  \\\n",
       "count  9990.000000  9990.000000  9990.000000  9990.000000  9990.000000   \n",
       "mean     -4.198706    51.962753     0.739943    52.488851    -2.497306   \n",
       "std       5.677379    36.400669     5.181313    38.177120     5.111799   \n",
       "min     -27.809795     1.624544   -20.733809     3.437439   -27.448456   \n",
       "25%      -7.951722    29.863448    -2.516638    29.636197    -5.734123   \n",
       "50%      -4.443021    42.393583     0.733772    41.831377    -2.702366   \n",
       "75%      -0.726945    61.676964     3.888734    62.033906     0.514246   \n",
       "max      34.048843   529.363342    36.970322   629.729797    31.365425   \n",
       "\n",
       "        mfcc19_var  mfcc20_mean   mfcc20_var  \n",
       "count  9990.000000  9990.000000  9990.000000  \n",
       "mean     54.973829    -0.917584    57.322614  \n",
       "std      41.585677     5.253243    46.444212  \n",
       "min       3.065302   -35.640659     0.282131  \n",
       "25%      30.496412    -4.004475    30.011365  \n",
       "50%      43.435253    -1.030939    44.332155  \n",
       "75%      65.328602     2.216603    68.210421  \n",
       "max    1143.230591    34.212101   910.473206  \n",
       "\n",
       "[8 rows x 58 columns]"
      ]
     },
     "execution_count": 13,
     "metadata": {},
     "output_type": "execute_result"
    }
   ],
   "source": [
    "data.describe()"
   ]
  },
  {
   "cell_type": "markdown",
   "metadata": {},
   "source": [
    "#### 0. What is the shape of the dataset?\n",
    "\n",
    "Expected Output : (9990, 59)"
   ]
  },
  {
   "cell_type": "code",
   "execution_count": 32,
   "metadata": {},
   "outputs": [
    {
     "data": {
      "text/plain": [
       "Index(['length', 'chroma_stft_mean', 'chroma_stft_var', 'rms_mean', 'rms_var',\n",
       "       'spectral_centroid_mean', 'spectral_centroid_var',\n",
       "       'spectral_bandwidth_mean', 'spectral_bandwidth_var', 'rolloff_mean',\n",
       "       'rolloff_var', 'zero_crossing_rate_mean', 'zero_crossing_rate_var',\n",
       "       'harmony_mean', 'harmony_var', 'perceptr_mean', 'perceptr_var', 'tempo',\n",
       "       'mfcc1_mean', 'mfcc1_var', 'mfcc2_mean', 'mfcc2_var', 'mfcc3_mean',\n",
       "       'mfcc3_var', 'mfcc4_mean', 'mfcc4_var', 'mfcc5_mean', 'mfcc5_var',\n",
       "       'mfcc6_mean', 'mfcc6_var', 'mfcc7_mean', 'mfcc7_var', 'mfcc8_mean',\n",
       "       'mfcc8_var', 'mfcc9_mean', 'mfcc9_var', 'mfcc10_mean', 'mfcc10_var',\n",
       "       'mfcc11_mean', 'mfcc11_var', 'mfcc12_mean', 'mfcc12_var', 'mfcc13_mean',\n",
       "       'mfcc13_var', 'mfcc14_mean', 'mfcc14_var', 'mfcc15_mean', 'mfcc15_var',\n",
       "       'mfcc16_mean', 'mfcc16_var', 'mfcc17_mean', 'mfcc17_var', 'mfcc18_mean',\n",
       "       'mfcc18_var', 'mfcc19_mean', 'mfcc19_var', 'mfcc20_mean', 'mfcc20_var',\n",
       "       'label'],\n",
       "      dtype='object')"
      ]
     },
     "execution_count": 32,
     "metadata": {},
     "output_type": "execute_result"
    }
   ],
   "source": [
    "#YOUR CODE HERE\n",
    "data.shape\n",
    "data.columns"
   ]
  },
  {
   "cell_type": "markdown",
   "metadata": {},
   "source": [
    "## Since we now know basic EDA, let's try to visualize this dataset:"
   ]
  },
  {
   "cell_type": "markdown",
   "metadata": {},
   "source": [
    "1. #### Plot Correlation heatmap for all the mean variables [Columns based on Mean]:\n",
    "\n"
   ]
  },
  {
   "cell_type": "code",
   "execution_count": 43,
   "metadata": {},
   "outputs": [
    {
     "data": {
      "text/plain": [
       "<AxesSubplot:>"
      ]
     },
     "execution_count": 43,
     "metadata": {},
     "output_type": "execute_result"
    },
    {
     "data": {
      "image/png": "[encoded data removed]",
      "text/plain": [
       "<Figure size 432x288 with 2 Axes>"
      ]
     },
     "metadata": {
      "needs_background": "light"
     },
     "output_type": "display_data"
    }
   ],
   "source": [
    "# Cell to plot heatmap. A few lines to get you started.\n",
    "\n",
    "cols = [col for col in data.columns if 'mean' in col]\n",
    "corr = data[cols].corr()\n",
    "sns.heatmap(corr)"
   ]
  },
  {
   "cell_type": "markdown",
   "metadata": {},
   "source": [
    "2. #### Draw a Countplot for the labels column"
   ]
  },
  {
   "cell_type": "code",
   "execution_count": 16,
   "metadata": {},
   "outputs": [
    {
     "data": {
      "text/plain": [
       "<AxesSubplot:xlabel='label', ylabel='count'>"
      ]
     },
     "execution_count": 16,
     "metadata": {},
     "output_type": "execute_result"
    },
    {
     "data": {
      "image/png": "[encoded data removed]",
      "text/plain": [
       "<Figure size 432x288 with 1 Axes>"
      ]
     },
     "metadata": {
      "needs_background": "light"
     },
     "output_type": "display_data"
    }
   ],
   "source": [
    "# Cell to plot countplot.\n",
    "sns.countplot(x='label',data=data)"
   ]
  },
  {
   "cell_type": "markdown",
   "metadata": {},
   "source": [
    "3. #### Draw a boxplot for the tempo vs labels column. Think carefully about what a boxplot represents."
   ]
  },
  {
   "cell_type": "code",
   "execution_count": 17,
   "metadata": {},
   "outputs": [
    {
     "data": {
      "text/plain": [
       "<AxesSubplot:xlabel='label', ylabel='tempo'>"
      ]
     },
     "execution_count": 17,
     "metadata": {},
     "output_type": "execute_result"
    },
    {
     "data": {
      "image/png": "[encoded data removed]",
      "text/plain": [
       "<Figure size 432x288 with 1 Axes>"
      ]
     },
     "metadata": {
      "needs_background": "light"
     },
     "output_type": "display_data"
    }
   ],
   "source": [
    "# Cell to plot boxplot. A few lines to get you started.\n",
    "sns.boxplot(x='label',y='tempo',data=data)\n",
    "#data[[\"label\", \"tempo\"]]"
   ]
  },
  {
   "cell_type": "markdown",
   "metadata": {},
   "source": [
    "Again, understand what a boxplot exactly represents. (Outlier analysis)"
   ]
  },
  {
   "cell_type": "markdown",
   "metadata": {},
   "source": [
    "### Now let's perform Machine Learning Classification. We'll be predicting the genre based on the given features."
   ]
  },
  {
   "cell_type": "code",
   "execution_count": 18,
   "metadata": {},
   "outputs": [],
   "source": [
    "# These are the import statements referred to below:\n",
    "\n",
    "from sklearn.naive_bayes import GaussianNB\n",
    "from sklearn.linear_model import LogisticRegression\n",
    "from sklearn.neighbors import KNeighborsClassifier\n",
    "from sklearn.tree import DecisionTreeClassifier\n",
    "from sklearn.ensemble import RandomForestClassifier\n",
    "from xgboost import XGBClassifier, XGBRFClassifier\n",
    "from xgboost import plot_tree, plot_importance\n",
    "from sklearn.ensemble import AdaBoostClassifier\n",
    "\n",
    "from sklearn.metrics import confusion_matrix, accuracy_score, roc_auc_score, roc_curve\n",
    "from sklearn import preprocessing\n",
    "from sklearn.model_selection import train_test_split\n",
    "from sklearn.feature_selection import RFE"
   ]
  },
  {
   "cell_type": "markdown",
   "metadata": {},
   "source": [
    "### Documentation of each model. You can refer to there whenever stuck.\n",
    "\n",
    "GaussianNB: https://scikit-learn.org/stable/modules/generated/sklearn.naive_bayes.GaussianNB.html <br>\n",
    "LogisticRegression: https://scikit-learn.org/stable/modules/generated/sklearn.linear_model.LogisticRegression.html <br>\n",
    "KNeighborsClassifier: https://scikit-learn.org/stable/modules/generated/sklearn.neighbors.KNeighborsClassifier.html <br>\n",
    "DecisionTreeClassifier: https://scikit-learn.org/stable/modules/generated/sklearn.tree.DecisionTreeClassifier.html <br>\n",
    "RandomForestClassifier: https://scikit-learn.org/stable/modules/generated/sklearn.ensemble.RandomForestClassifier.html <br>\n",
    "XGBoost: https://xgboost.readthedocs.io/en/latest/ <br>\n",
    "AdaBoostClassifier: https://scikit-learn.org/stable/modules/generated/sklearn.ensemble.AdaBoostClassifier.html <br>"
   ]
  },
  {
   "cell_type": "code",
   "execution_count": 19,
   "metadata": {},
   "outputs": [
    {
     "data": {
      "text/html": [
       "<div>\n",
       "<style scoped>\n",
       "    .dataframe tbody tr th:only-of-type {\n",
       "        vertical-align: middle;\n",
       "    }\n",
       "\n",
       "    .dataframe tbody tr th {\n",
       "        vertical-align: top;\n",
       "    }\n",
       "\n",
       "    .dataframe thead th {\n",
       "        text-align: right;\n",
       "    }\n",
       "</style>\n",
       "<table border=\"1\" class=\"dataframe\">\n",
       "  <thead>\n",
       "    <tr style=\"text-align: right;\">\n",
       "      <th></th>\n",
       "      <th>length</th>\n",
       "      <th>chroma_stft_mean</th>\n",
       "      <th>chroma_stft_var</th>\n",
       "      <th>rms_mean</th>\n",
       "      <th>rms_var</th>\n",
       "      <th>spectral_centroid_mean</th>\n",
       "      <th>spectral_centroid_var</th>\n",
       "      <th>spectral_bandwidth_mean</th>\n",
       "      <th>spectral_bandwidth_var</th>\n",
       "      <th>rolloff_mean</th>\n",
       "      <th>...</th>\n",
       "      <th>mfcc16_var</th>\n",
       "      <th>mfcc17_mean</th>\n",
       "      <th>mfcc17_var</th>\n",
       "      <th>mfcc18_mean</th>\n",
       "      <th>mfcc18_var</th>\n",
       "      <th>mfcc19_mean</th>\n",
       "      <th>mfcc19_var</th>\n",
       "      <th>mfcc20_mean</th>\n",
       "      <th>mfcc20_var</th>\n",
       "      <th>label</th>\n",
       "    </tr>\n",
       "  </thead>\n",
       "  <tbody>\n",
       "    <tr>\n",
       "      <th>0</th>\n",
       "      <td>66149</td>\n",
       "      <td>0.335406</td>\n",
       "      <td>0.091048</td>\n",
       "      <td>0.130405</td>\n",
       "      <td>0.003521</td>\n",
       "      <td>1773.065032</td>\n",
       "      <td>167541.63090</td>\n",
       "      <td>1972.744388</td>\n",
       "      <td>117335.77160</td>\n",
       "      <td>3714.560359</td>\n",
       "      <td>...</td>\n",
       "      <td>39.687145</td>\n",
       "      <td>-3.241280</td>\n",
       "      <td>36.488243</td>\n",
       "      <td>0.722209</td>\n",
       "      <td>38.099152</td>\n",
       "      <td>-5.050335</td>\n",
       "      <td>33.618073</td>\n",
       "      <td>-0.243027</td>\n",
       "      <td>43.771767</td>\n",
       "      <td>blues</td>\n",
       "    </tr>\n",
       "    <tr>\n",
       "      <th>1</th>\n",
       "      <td>66149</td>\n",
       "      <td>0.343065</td>\n",
       "      <td>0.086147</td>\n",
       "      <td>0.112699</td>\n",
       "      <td>0.001450</td>\n",
       "      <td>1816.693777</td>\n",
       "      <td>90525.69087</td>\n",
       "      <td>2010.051501</td>\n",
       "      <td>65671.87567</td>\n",
       "      <td>3869.682242</td>\n",
       "      <td>...</td>\n",
       "      <td>64.748276</td>\n",
       "      <td>-6.055294</td>\n",
       "      <td>40.677654</td>\n",
       "      <td>0.159015</td>\n",
       "      <td>51.264091</td>\n",
       "      <td>-2.837699</td>\n",
       "      <td>97.030830</td>\n",
       "      <td>5.784063</td>\n",
       "      <td>59.943081</td>\n",
       "      <td>blues</td>\n",
       "    </tr>\n",
       "    <tr>\n",
       "      <th>2</th>\n",
       "      <td>66149</td>\n",
       "      <td>0.346815</td>\n",
       "      <td>0.092243</td>\n",
       "      <td>0.132003</td>\n",
       "      <td>0.004620</td>\n",
       "      <td>1788.539719</td>\n",
       "      <td>111407.43760</td>\n",
       "      <td>2084.565132</td>\n",
       "      <td>75124.92172</td>\n",
       "      <td>3997.639160</td>\n",
       "      <td>...</td>\n",
       "      <td>67.336563</td>\n",
       "      <td>-1.768610</td>\n",
       "      <td>28.348579</td>\n",
       "      <td>2.378768</td>\n",
       "      <td>45.717648</td>\n",
       "      <td>-1.938424</td>\n",
       "      <td>53.050835</td>\n",
       "      <td>2.517375</td>\n",
       "      <td>33.105122</td>\n",
       "      <td>blues</td>\n",
       "    </tr>\n",
       "    <tr>\n",
       "      <th>3</th>\n",
       "      <td>66149</td>\n",
       "      <td>0.363639</td>\n",
       "      <td>0.086856</td>\n",
       "      <td>0.132565</td>\n",
       "      <td>0.002448</td>\n",
       "      <td>1655.289045</td>\n",
       "      <td>111952.28450</td>\n",
       "      <td>1960.039988</td>\n",
       "      <td>82913.63927</td>\n",
       "      <td>3568.300218</td>\n",
       "      <td>...</td>\n",
       "      <td>47.739452</td>\n",
       "      <td>-3.841155</td>\n",
       "      <td>28.337118</td>\n",
       "      <td>1.218588</td>\n",
       "      <td>34.770935</td>\n",
       "      <td>-3.580352</td>\n",
       "      <td>50.836224</td>\n",
       "      <td>3.630866</td>\n",
       "      <td>32.023678</td>\n",
       "      <td>blues</td>\n",
       "    </tr>\n",
       "    <tr>\n",
       "      <th>4</th>\n",
       "      <td>66149</td>\n",
       "      <td>0.335579</td>\n",
       "      <td>0.088129</td>\n",
       "      <td>0.143289</td>\n",
       "      <td>0.001701</td>\n",
       "      <td>1630.656199</td>\n",
       "      <td>79667.26765</td>\n",
       "      <td>1948.503884</td>\n",
       "      <td>60204.02027</td>\n",
       "      <td>3469.992864</td>\n",
       "      <td>...</td>\n",
       "      <td>30.336359</td>\n",
       "      <td>0.664582</td>\n",
       "      <td>45.880913</td>\n",
       "      <td>1.689446</td>\n",
       "      <td>51.363583</td>\n",
       "      <td>-3.392489</td>\n",
       "      <td>26.738789</td>\n",
       "      <td>0.536961</td>\n",
       "      <td>29.146694</td>\n",
       "      <td>blues</td>\n",
       "    </tr>\n",
       "  </tbody>\n",
       "</table>\n",
       "<p>5 rows × 59 columns</p>\n",
       "</div>"
      ],
      "text/plain": [
       "   length  chroma_stft_mean  chroma_stft_var  rms_mean   rms_var  \\\n",
       "0   66149          0.335406         0.091048  0.130405  0.003521   \n",
       "1   66149          0.343065         0.086147  0.112699  0.001450   \n",
       "2   66149          0.346815         0.092243  0.132003  0.004620   \n",
       "3   66149          0.363639         0.086856  0.132565  0.002448   \n",
       "4   66149          0.335579         0.088129  0.143289  0.001701   \n",
       "\n",
       "   spectral_centroid_mean  spectral_centroid_var  spectral_bandwidth_mean  \\\n",
       "0             1773.065032           167541.63090              1972.744388   \n",
       "1             1816.693777            90525.69087              2010.051501   \n",
       "2             1788.539719           111407.43760              2084.565132   \n",
       "3             1655.289045           111952.28450              1960.039988   \n",
       "4             1630.656199            79667.26765              1948.503884   \n",
       "\n",
       "   spectral_bandwidth_var  rolloff_mean  ...  mfcc16_var  mfcc17_mean  \\\n",
       "0            117335.77160   3714.560359  ...   39.687145    -3.241280   \n",
       "1             65671.87567   3869.682242  ...   64.748276    -6.055294   \n",
       "2             75124.92172   3997.639160  ...   67.336563    -1.768610   \n",
       "3             82913.63927   3568.300218  ...   47.739452    -3.841155   \n",
       "4             60204.02027   3469.992864  ...   30.336359     0.664582   \n",
       "\n",
       "   mfcc17_var  mfcc18_mean  mfcc18_var  mfcc19_mean  mfcc19_var  mfcc20_mean  \\\n",
       "0   36.488243     0.722209   38.099152    -5.050335   33.618073    -0.243027   \n",
       "1   40.677654     0.159015   51.264091    -2.837699   97.030830     5.784063   \n",
       "2   28.348579     2.378768   45.717648    -1.938424   53.050835     2.517375   \n",
       "3   28.337118     1.218588   34.770935    -3.580352   50.836224     3.630866   \n",
       "4   45.880913     1.689446   51.363583    -3.392489   26.738789     0.536961   \n",
       "\n",
       "   mfcc20_var  label  \n",
       "0   43.771767  blues  \n",
       "1   59.943081  blues  \n",
       "2   33.105122  blues  \n",
       "3   32.023678  blues  \n",
       "4   29.146694  blues  \n",
       "\n",
       "[5 rows x 59 columns]"
      ]
     },
     "execution_count": 19,
     "metadata": {},
     "output_type": "execute_result"
    }
   ],
   "source": [
    "data = pd.read_csv('SA2021_W4_Music.csv')\n",
    "data.head()"
   ]
  },
  {
   "cell_type": "markdown",
   "metadata": {},
   "source": [
    "### Preprocess the data.\n",
    "\n",
    "Be careful when you play around with the cell below. Your final outputs depend on this."
   ]
  },
  {
   "cell_type": "code",
   "execution_count": 20,
   "metadata": {},
   "outputs": [
    {
     "name": "stdout",
     "output_type": "stream",
     "text": [
      "SHAPE: (3442, 59)\n"
     ]
    }
   ],
   "source": [
    "# DO NOT EDIT THIS CELL\n",
    "\n",
    "Q1 = data.quantile(0.25)\n",
    "Q3 = data.quantile(0.75)\n",
    "IQR = Q3 - Q1\n",
    "data = data[~((data < (Q1 - 1.5 * IQR)) |(data > (Q3 + 1.5 * IQR))).any(axis=1)]\n",
    "print(\"SHAPE:\",data.shape) #Why did the shape change? What happened?\n",
    "\n",
    "y = data['label'] # genre variable.\n",
    "X = data.loc[:, data.columns != 'label'] #select all columns but not the labels\n",
    "\n",
    "cols = X.columns\n",
    "min_max_scaler = preprocessing.MinMaxScaler()\n",
    "np_scaled = min_max_scaler.fit_transform(X)\n",
    "X = pd.DataFrame(np_scaled, columns = cols)"
   ]
  },
  {
   "cell_type": "markdown",
   "metadata": {},
   "source": [
    "Also pay attention to the preprocessing step. What did we exactly do?"
   ]
  },
  {
   "cell_type": "markdown",
   "metadata": {},
   "source": [
    "### Splitting the dataset: Do you know what stratify does?"
   ]
  },
  {
   "cell_type": "code",
   "execution_count": 21,
   "metadata": {},
   "outputs": [],
   "source": [
    "# DO NOT EDIT THIS CELL\n",
    "\n",
    "X_train, X_test, y_train, y_test = train_test_split(X, y,stratify = y,test_size=0.1, random_state=42)"
   ]
  },
  {
   "cell_type": "markdown",
   "metadata": {},
   "source": [
    "### Creating a Predefined function to assess the accuracy of a model. This will be the scoring function"
   ]
  },
  {
   "cell_type": "code",
   "execution_count": 22,
   "metadata": {},
   "outputs": [],
   "source": [
    "def score(model, title = \"Default\"):\n",
    "    model.fit(X_train, y_train)\n",
    "    preds = model.predict(X_test)\n",
    "    print(confusion_matrix(y_test, preds))\n",
    "    accuracy = round(accuracy_score(y_test, preds), 5)\n",
    "    print('Accuracy for', title, ':', accuracy, '\\n')"
   ]
  },
  {
   "cell_type": "markdown",
   "metadata": {},
   "source": [
    "This function trains/fits the model by itself. Just pass the model as shown below."
   ]
  },
  {
   "cell_type": "markdown",
   "metadata": {},
   "source": [
    "### Let's see how a basic Logistic Regressor works on this!"
   ]
  },
  {
   "cell_type": "code",
   "execution_count": 23,
   "metadata": {},
   "outputs": [
    {
     "name": "stdout",
     "output_type": "stream",
     "text": [
      "[[28  0  5  0  0  1  2  0  1  0]\n",
      " [ 0 18  1  0  0  0  0  0  0  0]\n",
      " [ 6  0 40  3  2  1  0  0  2  3]\n",
      " [ 2  0  2 37  2  0  6  0  0  2]\n",
      " [ 1  0  0  1 24  0  0  0  1  1]\n",
      " [ 1  1  3  0  0 25  0  0  0  0]\n",
      " [ 1  0  0  0  0  1 34  0  0  4]\n",
      " [ 0  0  3  1  0  0  0 14  0  1]\n",
      " [ 0  0  6  1  0  0  0  2 10  2]\n",
      " [ 2  0  1  7  1  2  0  2  1 27]]\n",
      "Accuracy for Logistic Regression : 0.74493 \n",
      "\n"
     ]
    }
   ],
   "source": [
    "lg = LogisticRegression(random_state=0, solver='lbfgs', multi_class='multinomial')\n",
    "score(lg, \"Logistic Regression\")"
   ]
  },
  {
   "cell_type": "markdown",
   "metadata": {},
   "source": [
    "The accuracy hovers around 74%. Do you think you can beat this? The kaggle microcourses would've surely taught you more than this!\n",
    "\n",
    "#### Now it's your turn. Train the following: "
   ]
  },
  {
   "cell_type": "markdown",
   "metadata": {},
   "source": [
    "4. **AdaBoostClassifier** with n_estimators=1000 & random_state=0\n",
    "5. **RandomForestClassifier** with n_estimators=1000, max_depth=10, random_state=0\n",
    "**IMPORTANT**: Use the default values for other hyper parameters. Do **NOT** change these values "
   ]
  },
  {
   "cell_type": "code",
   "execution_count": 24,
   "metadata": {},
   "outputs": [
    {
     "name": "stdout",
     "output_type": "stream",
     "text": [
      "[[14  1  1  6  0  1  2  0  0 12]\n",
      " [ 1 16  1  0  1  0  0  0  0  0]\n",
      " [ 1  4 11 11  1  3  1  6  2 17]\n",
      " [ 2  0  1 16  2  0  6 10  1 13]\n",
      " [ 0  0  0  2  3  0  4  1  3 15]\n",
      " [ 1  9  2  3  0  7  4  3  0  1]\n",
      " [ 4  0  0  1  1  0 15  9  0 10]\n",
      " [ 0  1  2  1  0  0  0 15  0  0]\n",
      " [ 2  0  3  5  0  2  1  2  1  5]\n",
      " [ 3  2  2  5  1  0 11  4  1 14]]\n",
      "Accuracy for AdaBoostClassifier : 0.32464 \n",
      "\n"
     ]
    }
   ],
   "source": [
    "# AdaBoostClassifier\n",
    "#YOUR CODE HERE\n",
    "abc=AdaBoostClassifier(n_estimators=1000,random_state=0)\n",
    "score(abc,\"AdaBoostClassifier\")"
   ]
  },
  {
   "cell_type": "code",
   "execution_count": 25,
   "metadata": {},
   "outputs": [
    {
     "name": "stdout",
     "output_type": "stream",
     "text": [
      "[[28  0  6  1  0  1  1  0  0  0]\n",
      " [ 0 18  1  0  0  0  0  0  0  0]\n",
      " [ 2  0 51  2  0  1  0  0  0  1]\n",
      " [ 0  0  4 45  1  0  0  0  0  1]\n",
      " [ 0  0  0  1 26  0  0  0  0  1]\n",
      " [ 0  1  3  0  0 26  0  0  0  0]\n",
      " [ 0  0  1  0  1  1 37  0  0  0]\n",
      " [ 0  1  1  2  0  0  0 14  0  1]\n",
      " [ 0  0  2  2  0  1  0  0 16  0]\n",
      " [ 0  0  3  7  0  2  1  0  0 30]]\n",
      "Accuracy for RandomForestClassifier : 0.84348 \n",
      "\n"
     ]
    }
   ],
   "source": [
    "# Random Forest\n",
    "#YOUR CODE HERE\n",
    "rfc=RandomForestClassifier(n_estimators=1000,max_depth=10,random_state=0)\n",
    "score(rfc,\"RandomForestClassifier\")"
   ]
  },
  {
   "cell_type": "markdown",
   "metadata": {},
   "source": [
    "AdaBoost performs poorly, but Random Forest looks great!"
   ]
  },
  {
   "cell_type": "markdown",
   "metadata": {},
   "source": [
    "#### Now look at the import statements. There may be a few models you may or may not have seen. Use those models to beat the score you achieved in the cell above! Play around with their hyper parameters.\n",
    "\n",
    "We suggest going through their documentations before using them."
   ]
  },
  {
   "cell_type": "code",
   "execution_count": 26,
   "metadata": {},
   "outputs": [
    {
     "name": "stdout",
     "output_type": "stream",
     "text": [
      "[[33  0  2  0  0  0  0  0  1  1]\n",
      " [ 0 18  1  0  0  0  0  0  0  0]\n",
      " [ 1  0 50  1  0  1  0  0  2  2]\n",
      " [ 0  0  2 42  1  1  0  1  2  2]\n",
      " [ 0  0  1  0 26  0  0  0  0  1]\n",
      " [ 0  2  4  0  0 23  0  0  1  0]\n",
      " [ 0  0  0  3  0  0 35  0  0  2]\n",
      " [ 0  0  2  2  0  0  0 14  0  1]\n",
      " [ 1  0  2  1  0  0  0  0 17  0]\n",
      " [ 0  0  2  3  1  2  2  0  0 33]]\n",
      "Accuracy for KNeighborsClassifier : 0.84348 \n",
      "\n",
      "[[21  0  4  1  2  3  2  0  0  4]\n",
      " [ 1 16  2  0  0  0  0  0  0  0]\n",
      " [ 9  0 34  4  1  4  2  1  1  1]\n",
      " [ 0  1  6 33  2  1  2  1  3  2]\n",
      " [ 1  0  0  2 23  0  1  0  0  1]\n",
      " [ 0  2  4  2  0 18  1  1  1  1]\n",
      " [ 4  0  1  0  0  1 30  0  0  4]\n",
      " [ 0  1  1  5  2  0  0  9  0  1]\n",
      " [ 0  1  3  3  0  0  0  0 12  2]\n",
      " [ 1  0  0  0  0  1  4  3  0 34]]\n",
      "Accuracy for DecisionTreeClassifier : 0.66667 \n",
      "\n"
     ]
    }
   ],
   "source": [
    "# Naive Bayes: GaussianNB\n",
    "#YOUR CODE HERE\n",
    "#gnb= GuassianNB()\n",
    "#score(gnb,\"GaussianNB\")\n",
    "# KNN: KNeighborsClassifier\n",
    "#YOUR CODE HERE\n",
    "knc=KNeighborsClassifier()\n",
    "score(knc,\"KNeighborsClassifier\")\n",
    "# Decission trees: DecisionTreeClassifier\n",
    "#YOUR CODE HERE\n",
    "dtc=DecisionTreeClassifier()\n",
    "score(dtc,\"DecisionTreeClassifier\")"
   ]
  },
  {
   "cell_type": "markdown",
   "metadata": {},
   "source": [
    "6. Did you beat the score yet? Chances are you couldn't. Prove us wrong! Use **XGBClassifier** with n_estimators=1000 and learning_rate=0.05"
   ]
  },
  {
   "cell_type": "code",
   "execution_count": 27,
   "metadata": {},
   "outputs": [
    {
     "name": "stdout",
     "output_type": "stream",
     "text": [
      "[12:15:27] WARNING: C:/Users/Administrator/workspace/xgboost-win64_release_1.4.0/src/learner.cc:1095: Starting in XGBoost 1.3.0, the default evaluation metric used with the objective 'multi:softprob' was changed from 'merror' to 'mlogloss'. Explicitly set eval_metric if you'd like to restore the old behavior.\n",
      "[[32  0  3  1  0  1  0  0  0  0]\n",
      " [ 0 16  3  0  0  0  0  0  0  0]\n",
      " [ 2  0 50  2  0  0  0  0  1  2]\n",
      " [ 0  0  2 48  1  0  0  0  0  0]\n",
      " [ 0  0  1  0 26  0  0  0  0  1]\n",
      " [ 1  0  4  0  0 25  0  0  0  0]\n",
      " [ 1  0  0  0  1  1 37  0  0  0]\n",
      " [ 0  1  1  2  0  0  0 15  0  0]\n",
      " [ 1  0  2  0  0  0  0  1 17  0]\n",
      " [ 1  0  0  3  0  1  2  0  1 35]]\n",
      "Accuracy for XGBClassifier : 0.87246 \n",
      "\n"
     ]
    }
   ],
   "source": [
    "# XGBClassifier\n",
    "#YOUR CODE HERE\n",
    "xgb=XGBClassifier()\n",
    "score(xgb,\"XGBClassifier\")"
   ]
  },
  {
   "cell_type": "markdown",
   "metadata": {},
   "source": [
    "You should've beaten the score by now. Now, heres a task for you. Try **XGBRFClassifier** on your own."
   ]
  },
  {
   "cell_type": "code",
   "execution_count": 28,
   "metadata": {},
   "outputs": [
    {
     "name": "stdout",
     "output_type": "stream",
     "text": [
      "[12:16:08] WARNING: C:/Users/Administrator/workspace/xgboost-win64_release_1.4.0/src/learner.cc:1095: Starting in XGBoost 1.3.0, the default evaluation metric used with the objective 'multi:softprob' was changed from 'merror' to 'mlogloss'. Explicitly set eval_metric if you'd like to restore the old behavior.\n",
      "[[24  0  7  1  0  2  1  0  1  1]\n",
      " [ 0 16  2  0  0  1  0  0  0  0]\n",
      " [ 3  0 47  5  0  0  0  1  0  1]\n",
      " [ 1  0  4 44  1  0  0  0  0  1]\n",
      " [ 0  0  0  2 26  0  0  0  0  0]\n",
      " [ 0  1  4  0  0 25  0  0  0  0]\n",
      " [ 0  0  1  0  1  1 37  0  0  0]\n",
      " [ 0  0  1  3  0  0  0 15  0  0]\n",
      " [ 1  0  6  2  0  0  0  1 11  0]\n",
      " [ 2  1  4  2  1  2  1  2  0 28]]\n",
      "Accuracy for XGBRFClassifier : 0.7913 \n",
      "\n"
     ]
    }
   ],
   "source": [
    "# XGBRFClassifier\n",
    "#YOUR CODE HERE\n",
    "xgbrf=XGBRFClassifier()\n",
    "score(xgbrf,\"XGBRFClassifier\")"
   ]
  },
  {
   "cell_type": "markdown",
   "metadata": {},
   "source": [
    "### Till now, it looks like XGBClassifier performs the best. Let's experiment with it a bit more."
   ]
  },
  {
   "cell_type": "markdown",
   "metadata": {},
   "source": [
    "7. Plot the Confusion Matrix for XGBClassifier with parameters n_estimators=1000, learning_rate=0.05"
   ]
  },
  {
   "cell_type": "code",
   "execution_count": 42,
   "metadata": {},
   "outputs": [
    {
     "name": "stdout",
     "output_type": "stream",
     "text": [
      "[15:27:25] WARNING: C:/Users/Administrator/workspace/xgboost-win64_release_1.4.0/src/learner.cc:1095: Starting in XGBoost 1.3.0, the default evaluation metric used with the objective 'multi:softprob' was changed from 'merror' to 'mlogloss'. Explicitly set eval_metric if you'd like to restore the old behavior.\n",
      "[[31  0  3  1  0  1  1  0  0  0]\n",
      " [ 0 17  2  0  0  0  0  0  0  0]\n",
      " [ 2  0 48  2  0  4  0  0  0  1]\n",
      " [ 0  0  2 48  1  0  0  0  0  0]\n",
      " [ 0  0  1  0 26  0  0  0  0  1]\n",
      " [ 0  0  4  0  0 26  0  0  0  0]\n",
      " [ 0  0  0  0  1  1 37  0  0  1]\n",
      " [ 0  1  1  2  0  0  0 15  0  0]\n",
      " [ 0  0  2  0  1  0  0  0 18  0]\n",
      " [ 1  0  0  3  0  1  2  0  1 35]]\n",
      "Accuracy for XGBClassifier : 0.87246 \n",
      "\n"
     ]
    }
   ],
   "source": [
    "# Cell to plot Confusion Matrix\n",
    "#YOUR CODE HERE\n",
    "xgb1=XGBClassifier(n_estimators=1000, learning_rate=0.05)\n",
    "score(xgb1,\"XGBClassifier\")\n"
   ]
  },
  {
   "cell_type": "markdown",
   "metadata": {},
   "source": [
    "8. Find the feature importance for XGBClassifier. \n",
    "\n",
    "*Hint: It's an inbuilt member variable*"
   ]
  },
  {
   "cell_type": "code",
   "execution_count": 31,
   "metadata": {},
   "outputs": [
    {
     "name": "stdout",
     "output_type": "stream",
     "text": [
      "[0.         0.02948353 0.01440656 0.01494295 0.02100901 0.03974679\n",
      " 0.02198863 0.0378316  0.01272493 0.03094937 0.02801523 0.02153244\n",
      " 0.00850544 0.00800135 0.01871745 0.02768949 0.06020469 0.02094095\n",
      " 0.03242388 0.02745032 0.02793575 0.0066387  0.01697588 0.01753127\n",
      " 0.03950072 0.01634359 0.02031685 0.01197333 0.02137678 0.0149072\n",
      " 0.01060991 0.01552271 0.01708809 0.00867456 0.02981644 0.01972997\n",
      " 0.01201009 0.01272192 0.01446473 0.00561689 0.01691741 0.0094126\n",
      " 0.01712395 0.00678115 0.01662439 0.0060484  0.01316827 0.00663619\n",
      " 0.00855238 0.00864051 0.01095581 0.00724298 0.010663   0.00837794\n",
      " 0.00795487 0.00646208 0.01187191 0.01024636]\n"
     ]
    },
    {
     "data": {
      "image/png": "[encoded data removed]",
      "text/plain": [
       "<Figure size 432x288 with 1 Axes>"
      ]
     },
     "metadata": {
      "needs_background": "light"
     },
     "output_type": "display_data"
    }
   ],
   "source": [
    "# Cell to find Feature Importance\n",
    "#YOUR CODE HERE\n",
    "# plot\n",
    "print(xgb1.feature_importances_)\n",
    "plt.bar(range(len(xgb1.feature_importances_)), xgb1.feature_importances_)\n",
    "plt.show()"
   ]
  },
  {
   "cell_type": "code",
   "execution_count": null,
   "metadata": {},
   "outputs": [],
   "source": []
  }
 ],
 "metadata": {
  "kernelspec": {
   "display_name": "Python 3",
   "language": "python",
   "name": "python3"
  },
  "language_info": {
   "codemirror_mode": {
    "name": "ipython",
    "version": 3
   },
   "file_extension": ".py",
   "mimetype": "text/x-python",
   "name": "python",
   "nbconvert_exporter": "python",
   "pygments_lexer": "ipython3",
   "version": "3.8.8"
  }
 },
 "nbformat": 4,
 "nbformat_minor": 4
}
